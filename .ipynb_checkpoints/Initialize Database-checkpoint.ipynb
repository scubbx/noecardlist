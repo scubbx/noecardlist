{
 "cells": [
  {
   "cell_type": "markdown",
   "metadata": {},
   "source": [
    "Extract the list of all possible locations as a bulk from www.niederoesterreich-card.at/alle-ausflugsziele/0 up to www.niederoesterreich-card.at/alle-ausflugsziele/27 with http://import.io (https://import.io/data/mine/?id=57367c6e-1454-43b8-8f08-01780ca79aef)"
   ]
  },
  {
   "cell_type": "code",
   "execution_count": 1,
   "metadata": {
    "collapsed": false
   },
   "outputs": [],
   "source": [
    "import csv\n",
    "import mpcouch\n",
    "from lxml import html\n",
    "import requests\n",
    "import couchdb\n",
    "import hashlib\n",
    "\n",
    "import requests\n",
    "\n",
    "import pyprind\n",
    "\n",
    "couchdbUrl = \"http://gi88.geoinfo.tuwien.ac.at:5984\""
   ]
  },
  {
   "cell_type": "markdown",
   "metadata": {},
   "source": [
    "First, we collect the data from the CSV file in a list. We could already perform the collection of data here, but since there are only about 334 entries, there is no measurable loss in speed."
   ]
  },
  {
   "cell_type": "code",
   "execution_count": null,
   "metadata": {
    "collapsed": false
   },
   "outputs": [],
   "source": [
    "collectedDocs = []\n",
    "with open('noeHomepageData.csv', 'r') as csvfile:\n",
    "    csvreader = csv.reader(csvfile, delimiter=\",\", quotechar='\"')\n",
    "    for i, row in enumerate(csvreader):\n",
    "        if i == 0: continue\n",
    "        pushDoc = {'title': row[14],\n",
    "                   'link': row[9],\n",
    "                   'category': row[13],\n",
    "                   'plz': row[15],\n",
    "                   'addr': row[11],\n",
    "                   'imageUrl': row[2]}\n",
    "        collectedDocs.append(pushDoc)\n",
    "        #couchPusher.pushData(pushDoc)\n",
    "    #couchPusher.finish()\n",
    "print(\"Collected entries: {}\".format(len(collectedDocs)))"
   ]
  },
  {
   "cell_type": "markdown",
   "metadata": {},
   "source": [
    "Now, we collect the missing information by calling each website of each entry and parsing it. After that it gets uploaded to the CouchDB database.\n",
    "One important thing is, that we calculate a hash value of every entry important, so we can detect any real change in comparison to the data already in the database. When this check is performed on the mobile end-point, every user acts as a updating node automatically. So, in reality, all we would have to do manually, is to check whether any entries are added or removed.\n",
    "\n",
    "The **contentHash** contains a hash value for the **description**, the **price** and the **opening hours**."
   ]
  },
  {
   "cell_type": "code",
   "execution_count": null,
   "metadata": {
    "collapsed": false,
    "scrolled": true
   },
   "outputs": [],
   "source": [
    "couchPusher = mpcouch.mpcouchPusher(couchdbUrl+\"/noecard\", 10000)\n",
    "my_prbar = pyprind.ProgBar(len(collectedDocs))\n",
    "for i, entry in enumerate(collectedDocs):\n",
    "    my_prbar.update()\n",
    "    #print(\"processing entry {} of {}: {}\".format(i, len(collectedDocs), entry['title']))\n",
    "    page = requests.get(entry['link'])\n",
    "    pageTree = html.fromstring(page.content)\n",
    "    errorText = pageTree.xpath('//*[@id=\"body\"]/div[2]/div/section/article/p[1]/strong')\n",
    "    if len(errorText) < 1:\n",
    "        pageDescription = pageTree.xpath('//*[@id=\"detailArticleNOECard\"]/div/section/article/div/p[1]')[0].text\n",
    "        pagePrice = pageTree.xpath('//*[@id=\"detailArticleNOECard\"]/div/section/aside/article[2]/p/span[2]')[0].text\n",
    "        pageOpen = pageTree.xpath('//*[@id=\"detailArticleNOECard\"]/div/section/aside/article[4]/p[2]')[0].text\n",
    "        pageLocation = pageTree.xpath('//*[@id=\"detailArticleNOECard\"]/div/section/aside/article[3]/p[2]/span[3]')[0].text\n",
    "        pageLocationName = pageTree.xpath('//*[@id=\"detailArticleNOECard\"]/div/section/aside/article[3]/p[1]/strong')[0]\n",
    "\n",
    "        try:\n",
    "            pageMapString = pageTree.xpath('//*[@id=\"detailArticleNOECard\"]/div/section/aside/article[5]/figure/img/@src')[0]\n",
    "            pageMap = pageMapString.replace('7C','').replace('2C','').split('%')\n",
    "            pageMap = [pageMap[-1], pageMap[-2]]\n",
    "        except IndexError:\n",
    "            pageMap = []\n",
    "        \n",
    "        collectedDocs[i]['_id'] = collectedDocs[i]['title']\n",
    "        collectedDocs[i]['description'] = pageDescription\n",
    "        collectedDocs[i]['price'] = float(pagePrice.replace('€ ','').replace(',','.'))\n",
    "        collectedDocs[i]['open'] = pageOpen\n",
    "        collectedDocs[i]['coordinates'] = pageMap\n",
    "        collectedDocs[i]['checkedSeason'] = 2015\n",
    "        \n",
    "        collectedDocs[i]['entryId'] = i\n",
    "        \n",
    "        if pageOpen == None: pageOpen = \"\"\n",
    "        if pageDescription == None: pageDescription = \"\"\n",
    "        if pagePrice == None: pagePrice = \"\"  \n",
    "            \n",
    "        hashString = (pageDescription+pagePrice+pageOpen).encode('utf-8')\n",
    "        collectedDocs[i]['contentHash'] = hashlib.sha1(hashString).hexdigest()\n",
    "        \n",
    "        couchPusher.pushData(collectedDocs[i])\n",
    "    else:\n",
    "        # the page does not exist anymore, ignore\n",
    "        pass\n",
    "couchPusher.finish()"
   ]
  },
  {
   "cell_type": "markdown",
   "metadata": {},
   "source": [
    "Now, we want to include the image of the entry. We have to perform this step in a second run, since with the CouchDB interface in Python, the document has to already exist, when an attachment is added to it."
   ]
  },
  {
   "cell_type": "code",
   "execution_count": null,
   "metadata": {
    "collapsed": false,
    "scrolled": true
   },
   "outputs": [],
   "source": [
    "couchdbserver = couchdb.Server(couchdbUrl)\n",
    "couchdbdb = couchdbserver['noecard']\n",
    "\n",
    "my_prbar = pyprind.ProgBar(len(collectedDocs))\n",
    "for i, entry in enumerate(collectedDocs):\n",
    "    my_prbar.update()\n",
    "    #print(\"Retrieving {}: {}\".format(i, entry['title']))\n",
    "    currentDoc = couchdbdb.get(entry['title'])\n",
    "    if currentDoc != None and currentDoc['imageUrl'] != '':\n",
    "        response = requests.get(currentDoc['imageUrl'])\n",
    "        storeName = \"preview.jpg\"\n",
    "        couchdbdb.put_attachment(currentDoc, response.content, filename=storeName, content_type='image/jpeg')"
   ]
  },
  {
   "cell_type": "markdown",
   "metadata": {},
   "source": [
    "# Step 2: Data Correction"
   ]
  },
  {
   "cell_type": "markdown",
   "metadata": {
    "collapsed": true
   },
   "source": [
    "The OpeningHours imported are just a long string. We dissect this string and parse useful information out of it."
   ]
  },
  {
   "cell_type": "code",
   "execution_count": 6,
   "metadata": {
    "collapsed": false,
    "scrolled": true
   },
   "outputs": [
    {
     "name": "stderr",
     "output_type": "stream",
     "text": [
      "0%                          100%\n",
      "[                              ]"
     ]
    },
    {
     "name": "stdout",
     "output_type": "stream",
     "text": [
      "['ganzjährig, Mi–Do 11–21 h, Fr–So 11–18 h']\n",
      "['Jänner ', ' November, tgl. 10–18 h, letzter Einlass 17 h. Wegen Umbauarbeiten ', ' 15. Februar geschlossen.']\n",
      "['1. Mai ', ' 15. Oktober, Mo–Fr 9–12 und 14–18 h, Sa 9–12 h, So und Ftg geschlossen']\n",
      "['1. Mai ', ' 4. Juli, Sa, So']\n",
      "['']\n",
      "['Sommersaison (Freibad und Hallenbad): Mitte Mai ', ' Anfang September, tgl. 9–21 h']\n",
      "[' Wintersaison (nur Hallenbad): Mitte September ', ' Ende April, Di–Fr 13–21 h, Sa, So und Ftg 9–21 h']\n",
      "[' während der Schulferien Mo–So 9–21 h']\n",
      "['ganzjährig, tgl. 10–17 h']\n",
      "[' Mai ', ' September 10–18 h']\n",
      "[' Jänner u. Februar nur Sa, So u. Ftg. Besichtigung nur mit Führung möglich. Öffnungszeiten während der Weihnachtsfeiertage: ', ' 23.12. normale Öffnungszeiten, tgl. von 10–17 h']\n",
      "[' 24.12. 10–12 h']\n",
      "[' 25.12. geschlossen']\n",
      "[' 26.12.–30.12. 10–17 h']\n",
      "[' 31.12. 10–12 h']\n",
      "[' 1.1. geschlossen']\n",
      "[' 2.1.–6.1. 10–17 h']\n",
      "[' 7. und 8.1. geschlossen']\n",
      "[' von 9.1.–28.2. nur samstags und sonntags von 10–17 h geöffnet']\n",
      "[' ab 29.2. wieder normale Öffnungszeiten, tgl. von 10–17 h.']\n",
      "['Dezember ', ' März, tgl. 9–16 h, je nach Schneelage. Nähere Infos siehe Homepage.']\n",
      "['ganzjährig, außer Juli und August (geschlossen), Di–Fr 10–21 h, Sa , So und Ftg 9–20 h']\n",
      "['8. Mai ', ' 13. September,']"
     ]
    },
    {
     "name": "stderr",
     "output_type": "stream",
     "text": [
      "[#                             ] | ETA: 00:00:11"
     ]
    },
    {
     "name": "stdout",
     "output_type": "stream",
     "text": [
      "\n",
      "['21. März ', ' 15. Nov., täglich 9–17 h']\n",
      "['Mai ', ' September, Sa, So']\n",
      "['ganzjährig, 10–17 h']\n",
      "[' Führungen: Sa, So u. Ftg. um 15 h und nach Vereinbarung']\n",
      "['Mai ', ' Anfang September, tgl. 9–18 h (witterungsabhängig)']\n",
      "['1. April ', ' 31. Oktober, Fr–So und Ftg 10–12 und 13–17 h']\n",
      "['4. April ', ' 26. Oktober']\n",
      "['Mai, Juni, Sept. und Okt.,']\n",
      "['18. ', ' 30. April u. 5. ', ' 26. Okt. 2015 Einmalige „Große Wachaurundfahrt“ ab Krems 10.10 h ', ' Krems 15.30 h']\n",
      "['Juli und August']\n",
      "[' Renntage laut Rennplan, siehe Internet oder telefonische Auskunft']\n",
      "['10. April ', ' 26. Oktober, Mi–So u Ftg. 13–19 h']\n",
      "['1. Mai ', ' 26. Oktober, Sa, So und Ftg Abfahrten ab Retz 9.30, 13.20 und 16.20 h, ab Drosendorf 11.50, 14.50 und 17.50 h']\n",
      "['ganzjährig, Di–So u. Ftg. 10–18 h']\n",
      "[' 24. u. 31. Dez. 10–14 h']\n"
     ]
    }
   ],
   "source": [
    "couchdbserver = couchdb.Server(couchdbUrl)\n",
    "couchdbdb = couchdbserver['noecard']\n",
    "\n",
    "# each entry represents a day in the year\n",
    "Jänner = [False for x in range(31)]\n",
    "Februar = [False for x in range(30)] # in case of leap year, we will ignore entry 30 later on\n",
    "März = [False for x in range(31)]\n",
    "April = [False for x in range(30)]\n",
    "Mai = [False for x in range(31)]\n",
    "Juni = [False for x in range(30)]\n",
    "Juli = [False for x in range(31)]\n",
    "August = [False for x in range(31)]\n",
    "September = [False for x in range(30)]\n",
    "Oktober = [False for x in range(31)]\n",
    "November = [False for x in range(30)]\n",
    "Dezember = [False for x in range(31)]\n",
    " \n",
    "days = \"Montag,Dienstag,Mittwoch,Donnerstag,Freitag,Samstag,Sonntag,Mo,Di,Mi,Do,Fr,Sa,So\".split(',')\n",
    "months = \"Jänner,Januar,Februar,Feber,März,April,Mai,Juni,Juli,August,September,Oktober,November,Dezember\".split(\",\")\n",
    "\n",
    "\n",
    "dblen = (len(couchdbdb))\n",
    "my_prbar = pyprind.ProgBar(dblen)\n",
    "for i, entry in enumerate(couchdbdb):\n",
    "    my_prbar.update()\n",
    "    # exclude design documents starting with '_'\n",
    "    if not entry.startswith('_'):\n",
    "        currentDoc = couchdbdb[entry]\n",
    "        newDoc = currentDoc\n",
    "        if str(type(currentDoc['open'])) != \"<class 'NoneType'>\":\n",
    "            \n",
    "            parsedArray = []\n",
    "            for entry in currentDoc['open'].split(\";\"):\n",
    "                splitEntry = entry.split(\"bis\")\n",
    "                print(splitEntry)\n",
    "                parsedArray.append(entry)\n",
    "            newDoc['openParsed'] = parsedArray\n",
    "            \n",
    "        else:\n",
    "            newDoc['openParsed'] = []\n",
    "        #couchdbdb.save(newDoc)\n",
    "    if i == 20: break\n",
    "        "
   ]
  },
  {
   "cell_type": "code",
   "execution_count": null,
   "metadata": {
    "collapsed": true
   },
   "outputs": [],
   "source": []
  }
 ],
 "metadata": {
  "kernelspec": {
   "display_name": "Python 3",
   "language": "python",
   "name": "python3"
  },
  "language_info": {
   "codemirror_mode": {
    "name": "ipython",
    "version": 3
   },
   "file_extension": ".py",
   "mimetype": "text/x-python",
   "name": "python",
   "nbconvert_exporter": "python",
   "pygments_lexer": "ipython3",
   "version": "3.4.3"
  }
 },
 "nbformat": 4,
 "nbformat_minor": 0
}
